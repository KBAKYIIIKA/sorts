{
 "cells": [
  {
   "cell_type": "code",
   "execution_count": 1,
   "id": "b21e42c9-53bc-4ed1-86e0-23245a2168b2",
   "metadata": {},
   "outputs": [],
   "source": [
    "import time\n",
    "import random"
   ]
  },
  {
   "cell_type": "code",
   "execution_count": 2,
   "id": "49491272-742d-41e0-bbf2-ea3bb247ff56",
   "metadata": {},
   "outputs": [
    {
     "name": "stdout",
     "output_type": "stream",
     "text": [
      "Неотсортированный массив: [1, 4, 5, 2, 2, 4, 5]\n",
      "Сортировка в Python. Отсортированный массив: [1, 2, 2, 4, 4, 5, 5], время работы: 0.0\n"
     ]
    }
   ],
   "source": [
    "# Задание малого и большого массива для дальнейшей сортировки\n",
    "\n",
    "num_numbers = 10000\n",
    "min_value = -10000\n",
    "max_value = 10000\n",
    "\n",
    "big_arr = [random.randint(min_value, max_value) for _ in range(num_numbers)]\n",
    "\n",
    "arr = [1, 4, 5, 2, 2, 4, 5]\n",
    "print(f'Неотсортированный массив: {arr}')\n",
    "start_time_sort = time.time()\n",
    "arr.sort()\n",
    "time_delta = time.time() - start_time_sort\n",
    "print(f'Сортировка в Python. Отсортированный массив: {arr}, время работы: {time_delta}')"
   ]
  },
  {
   "cell_type": "code",
   "execution_count": 3,
   "id": "1c1a77c8-d1be-4f6d-bbe2-dcc9fb48319b",
   "metadata": {},
   "outputs": [],
   "source": [
    "# Сортирвка выбором сложность O(n^2)\n",
    "def sort_v(arr):\n",
    "    n = len(arr)\n",
    "    for i in range(n):\n",
    "        smin_index = i\n",
    "        fmin_index = smin_index\n",
    "        for j in range(i+1, n):\n",
    "            if arr[fmin_index] > arr[j]:\n",
    "                fmin_index = j\n",
    "        if arr[smin_index] > arr[fmin_index]:\n",
    "            arr[smin_index], arr[fmin_index] = arr[fmin_index], arr[smin_index]\n",
    "    return arr"
   ]
  },
  {
   "cell_type": "code",
   "execution_count": 4,
   "id": "8bf0f41e-371e-421b-9ae6-8715c35793c0",
   "metadata": {},
   "outputs": [
    {
     "name": "stdout",
     "output_type": "stream",
     "text": [
      "Сортировка выбором. Отсортированный массив: [1, 2, 2, 4, 4, 5, 5], время работы: 0.0\n"
     ]
    }
   ],
   "source": [
    "# Проверка сортировки выбором\n",
    "start_time_sort_v = time.time()\n",
    "arr_v = sort_v(arr)\n",
    "time_delta = time.time() - start_time_sort_v\n",
    "print(f'Сортировка выбором. Отсортированный массив: {arr_v}, время работы: {time_delta}')"
   ]
  },
  {
   "cell_type": "code",
   "execution_count": 5,
   "id": "b7a82dc0-3b50-4991-9d28-c01012eddcbc",
   "metadata": {},
   "outputs": [],
   "source": [
    "# Сортировка вставкой сложность O(n^2)\n",
    "def sort_vst(arr):\n",
    "    for i in range (1, len(arr)):\n",
    "        value = arr[i]\n",
    "        j = i - 1\n",
    "        while j>=0 and arr[j]> value:\n",
    "            arr[j] = arr[j+1]\n",
    "            j-=1\n",
    "    arr[j+1] = value\n",
    "    return arr"
   ]
  },
  {
   "cell_type": "code",
   "execution_count": 6,
   "id": "a0efd251-6ebd-42e6-9875-263eaf58972c",
   "metadata": {},
   "outputs": [
    {
     "name": "stdout",
     "output_type": "stream",
     "text": [
      "Сортировка вставкой. Отсортированный массив: [1, 2, 2, 4, 4, 5, 5], время работы: 0.0\n"
     ]
    }
   ],
   "source": [
    "# Проверка сортировки вставкой\n",
    "start_time_sort_vst = time.time()\n",
    "arr_vst = sort_vst(arr)\n",
    "time_delta = time.time() - start_time_sort_vst\n",
    "print(f'Сортировка вставкой. Отсортированный массив: {arr_vst}, время работы: {time_delta}')"
   ]
  },
  {
   "cell_type": "code",
   "execution_count": 7,
   "id": "d4b606a0-3e47-4810-aa36-4a140b0f3ece",
   "metadata": {},
   "outputs": [],
   "source": [
    "# Сортировка пузырьком сложность O(n^2)\n",
    "def bubble_sort(arr):\n",
    "    for i in range(len(arr)):\n",
    "        for j in range(0, len(arr)-i-1):\n",
    "            if arr[j] > arr[j+1]:\n",
    "                arr[j], arr[j+1] = arr[j+1], arr[j]\n",
    "    return arr"
   ]
  },
  {
   "cell_type": "code",
   "execution_count": 8,
   "id": "e6cebafc-554b-4db6-82e3-f410be8920c2",
   "metadata": {},
   "outputs": [
    {
     "name": "stdout",
     "output_type": "stream",
     "text": [
      "Сортировка пузырьком. Отсортированный массив: [1, 2, 2, 4, 4, 5, 5], время работы: 0.0\n"
     ]
    }
   ],
   "source": [
    "# Проверка сортировки пузырьком\n",
    "start_time_sort_b = time.time()\n",
    "arr_b = bubble_sort(arr)\n",
    "time_delta = time.time() - start_time_sort_b\n",
    "print(f'Сортировка пузырьком. Отсортированный массив: {arr_b}, время работы: {time_delta}')"
   ]
  },
  {
   "cell_type": "code",
   "execution_count": 9,
   "id": "452c86aa-679d-4e6a-9e2d-e44bd5453883",
   "metadata": {},
   "outputs": [],
   "source": [
    "#Сортировка Шелла сложность O(n*log(n)^2)\n",
    "def sort_shell(arr):\n",
    "    n = len(arr)\n",
    "    gap = n // 2\n",
    "    while gap > 0:\n",
    "        for i in range(0, n):\n",
    "            value = arr[i]\n",
    "            j = i\n",
    "            while j >= gap and arr[j-gap] > value:\n",
    "                arr[j-gap] = arr[j]\n",
    "                j-=gap\n",
    "            arr[j] = value\n",
    "        gap = gap // 2\n",
    "    return arr"
   ]
  },
  {
   "cell_type": "code",
   "execution_count": 10,
   "id": "8397f7e0-0276-411b-b7d9-423ae37866fd",
   "metadata": {},
   "outputs": [
    {
     "name": "stdout",
     "output_type": "stream",
     "text": [
      "Сортировка Шелла. Отсортированный массив: [1, 2, 2, 4, 4, 5, 5], время работы: 0.012311935424804688\n"
     ]
    }
   ],
   "source": [
    "# Проверка сортировки Шелла\n",
    "start_time_sort_sh = time.time()\n",
    "arr_sh = sort_shell(arr)\n",
    "time_delta = time.time() - start_time_sort_b\n",
    "print(f'Сортировка Шелла. Отсортированный массив: {arr_sh}, время работы: {time_delta}')"
   ]
  },
  {
   "cell_type": "code",
   "execution_count": 11,
   "id": "61e02ed5-d3c0-42f2-a1c2-988bcf49fa02",
   "metadata": {},
   "outputs": [],
   "source": [
    "# Быстрая соритровка сложность O(n*log(n))\n",
    "def quick_sort(arr):\n",
    "    if len(arr)<=1:\n",
    "        return arr\n",
    "    mid = arr[len(arr) // 2]\n",
    "    left = [x for x in arr if x < mid]\n",
    "    midle = [x for x in arr if x == mid]\n",
    "    right = [x for x in arr if x > mid]\n",
    "    return quick_sort(left) + midle + quick_sort(right)"
   ]
  },
  {
   "cell_type": "code",
   "execution_count": 12,
   "id": "4796b398-c942-4441-8745-32ec601b7775",
   "metadata": {},
   "outputs": [
    {
     "name": "stdout",
     "output_type": "stream",
     "text": [
      "Быстрая сортировка. Отсортированный массив: [1, 2, 2, 4, 4, 5, 5], время работы: 0.024428606033325195\n"
     ]
    }
   ],
   "source": [
    "# Проверка быстрой сортировки\n",
    "start_time_sort_sh = time.time()\n",
    "arr_q = quick_sort(arr)\n",
    "time_delta = time.time() - start_time_sort_b\n",
    "print(f'Быстрая сортировка. Отсортированный массив: {arr_q}, время работы: {time_delta}')"
   ]
  },
  {
   "cell_type": "code",
   "execution_count": 13,
   "id": "fa34638e-cb9f-47f8-bfb6-949674ca6220",
   "metadata": {},
   "outputs": [],
   "source": [
    "# Турнирная сортировка сложность O(n*log(n))\n",
    "def tournament_sort(arr):\n",
    "    n = len(arr)\n",
    "    tree = [None] * (2 * n)\n",
    "    leaves = [None] * n\n",
    "\n",
    "    # Создание листьев дерева с элементами массива\n",
    "    for i in range(n):\n",
    "        tree[n + i] = i\n",
    "        leaves[i] = i\n",
    "\n",
    "    # Построение дерева турнира\n",
    "    for i in range(n - 1, 0, -1):\n",
    "        if tree[2 * i] is not None and tree[2 * i + 1] is not None:\n",
    "            tree[i] = max(tree[2 * i], tree[2 * i + 1], key=lambda x: arr[x])\n",
    "        elif tree[2 * i] is not None:\n",
    "            tree[i] = tree[2 * i]\n",
    "        else:\n",
    "            tree[i] = tree[2 * i + 1]\n",
    "\n",
    "    # Сортировка с использованием дерева\n",
    "    sorted_arr = []\n",
    "    while leaves:\n",
    "        winner_index = tree[1]\n",
    "        sorted_arr.append(arr[winner_index])\n",
    "        leaves.remove(winner_index)\n",
    "\n",
    "        # Обновление дерева\n",
    "        winner_index += n\n",
    "        tree[winner_index] = None\n",
    "        while winner_index > 1:\n",
    "            winner_index //= 2\n",
    "            if tree[2 * winner_index] is not None and tree[2 * winner_index + 1] is not None:\n",
    "                tree[winner_index] = max(tree[2 * winner_index], tree[2 * winner_index + 1], key=lambda x: arr[x])\n",
    "            elif tree[2 * winner_index] is not None:\n",
    "                tree[winner_index] = tree[2 * winner_index]\n",
    "            else:\n",
    "                tree[winner_index] = tree[2 * winner_index + 1]\n",
    "\n",
    "    return sorted_arr"
   ]
  },
  {
   "cell_type": "code",
   "execution_count": 14,
   "id": "ea775543-734c-49e3-a5af-41c00aefd327",
   "metadata": {},
   "outputs": [
    {
     "name": "stdout",
     "output_type": "stream",
     "text": [
      "Турнирная сортировка. Отсортированный массив: [5, 5, 4, 4, 2, 2, 1], время работы: 0.03713846206665039\n"
     ]
    }
   ],
   "source": [
    "# Проверка турнирной сортировки\n",
    "start_time_sort_sh = time.time()\n",
    "arr_t = tournament_sort(arr)\n",
    "time_delta = time.time() - start_time_sort_b\n",
    "print(f'Турнирная сортировка. Отсортированный массив: {arr_t}, время работы: {time_delta}')"
   ]
  }
 ],
 "metadata": {
  "kernelspec": {
   "display_name": "Python 3 (ipykernel)",
   "language": "python",
   "name": "python3"
  },
  "language_info": {
   "codemirror_mode": {
    "name": "ipython",
    "version": 3
   },
   "file_extension": ".py",
   "mimetype": "text/x-python",
   "name": "python",
   "nbconvert_exporter": "python",
   "pygments_lexer": "ipython3",
   "version": "3.12.2"
  }
 },
 "nbformat": 4,
 "nbformat_minor": 5
}
